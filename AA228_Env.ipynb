{
 "cells": [
  {
   "cell_type": "markdown",
   "metadata": {},
   "source": [
    "# 1. Test Random Environment with OpenAI Gym"
   ]
  },
  {
   "cell_type": "code",
   "execution_count": 171,
   "metadata": {},
   "outputs": [],
   "source": [
    "from gym import Env\n",
    "from gym.spaces import *\n",
    "import numpy as np\n",
    "import random"
   ]
  },
  {
   "cell_type": "code",
   "execution_count": 172,
   "metadata": {},
   "outputs": [],
   "source": [
    "\"\"\"\n",
    "State of satellite\n",
    "P: power of satellite\n",
    "S1: memory in sensor 1\n",
    "S2: memory in sensor 2\n",
    "S3: memory in sensor 3\n",
    "E: electronics of satellite\n",
    "O: orbital motion of satellite\n",
    "T: time of the day-> ionosphere behavior\n",
    "State Space:\n",
    "S = (P, S1, S2, S3, E, O, T)\n",
    "P = {100, 99, 98, …, 3, 2, 1, 0}\n",
    "S1 = {100, 99, 98, …, 3, 2, 1, 0}\n",
    "S2 = {100, 99, 98, …, 3, 2, 1, 0}\n",
    "S3 = {100, 99, 98, …, 3, 2, 1, 0}\n",
    "E = {0, 1} not working / working\n",
    "O = {0, 1} not in range / in range\n",
    "T = {0, 1, 2, 3, 4} night, dawn, morning, afternoon, dusk\n",
    "Action Space:\n",
    "A = {transmit, not transmit} = {1, 0}\n",
    "Transition Function:\n",
    "If a1= trasmit = 1, then P(state=s) transitions to a lower value P(state=s’), where s’< s\n",
    "Ex: P=100 -> a1 (tramit) -> P=90\n",
    "Reward: (in progress).\n",
    "\"\"\"\n",
    "\n",
    "class SatelliteEnv(Env):\n",
    "    def __init__(self):\n",
    "        # A = {transmit, not transmit} = {1, 0}\n",
    "        self.action_space = Discrete(2)\n",
    "        # S = (P, S1, S2, S3, E, O, T)\n",
    "        self.observation_space = Tuple((Box(0, 100, shape=(4,)),MultiDiscrete([ 2, 2, 4 ])))\n",
    "        # Set start states\n",
    "        self.state = np.zeros(7)\n",
    "        for i in range(7): \n",
    "            if i<4:\n",
    "                self.state[i] = random.randint(90,100)\n",
    "            elif i<6:\n",
    "                self.state[i] = 1\n",
    "            else:\n",
    "                self.state[i] = 1\n",
    "        \n",
    "        #Transmission Time 60 mins\n",
    "        self.transmission_time = 60 \n",
    "        \n",
    "    def step(self, action):\n",
    "        # Apply action\n",
    "        # 0  don't transmit\n",
    "        # 1  transmit\n",
    "        if action==1:\n",
    "            self.state[0] += -5\n",
    "             \n",
    "        # Reduce shower length by 1 second\n",
    "        self.transmission_time -= 1 \n",
    "        \n",
    "        # Calculate reward\n",
    "        if self.state[0] >=15:\n",
    "            reward = 1\n",
    "        else: \n",
    "            reward = -1\n",
    "        \n",
    "        # Check if transmission time is done\n",
    "        if self.transmission_time <= 0: \n",
    "            done = True\n",
    "        else:\n",
    "            done = False\n",
    "        \n",
    "        # Set placeholder for info\n",
    "        info = {}\n",
    "        \n",
    "        # Return step information\n",
    "        return self.state, reward, done, info\n",
    "\n",
    "    def render(self):\n",
    "        # Implement viz\n",
    "        pass\n",
    "    \n",
    "    def reset(self):\n",
    "        # Reset states\n",
    "        self.state = np.zeros(7)\n",
    "        for i in range(7): \n",
    "            if i<4:\n",
    "                self.state[i] = random.randint(90,100)\n",
    "            elif i<6:\n",
    "                self.state[i] = 1\n",
    "            else:\n",
    "                self.state[i] = 1\n",
    "        # Reset time\n",
    "        self.transmission_time = 60 \n",
    "        return self.state\n",
    "    "
   ]
  },
  {
   "cell_type": "code",
   "execution_count": 173,
   "metadata": {},
   "outputs": [],
   "source": [
    "env = SatelliteEnv()"
   ]
  },
  {
   "cell_type": "code",
   "execution_count": 174,
   "metadata": {},
   "outputs": [
    {
     "data": {
      "text/plain": [
       "(array([71.79943 , 91.31828 , 63.450966, 93.567566], dtype=float32),\n",
       " array([1, 0, 3], dtype=int64))"
      ]
     },
     "execution_count": 174,
     "metadata": {},
     "output_type": "execute_result"
    }
   ],
   "source": [
    "env.observation_space.sample()"
   ]
  },
  {
   "cell_type": "code",
   "execution_count": 175,
   "metadata": {},
   "outputs": [
    {
     "name": "stdout",
     "output_type": "stream",
     "text": [
      "Episode:1 Score:-4\n",
      "Episode:2 Score:20\n",
      "Episode:3 Score:8\n",
      "Episode:4 Score:6\n",
      "Episode:5 Score:-4\n",
      "Episode:6 Score:-6\n",
      "Episode:7 Score:14\n",
      "Episode:8 Score:4\n",
      "Episode:9 Score:8\n",
      "Episode:10 Score:2\n"
     ]
    }
   ],
   "source": [
    "episodes = 10\n",
    "for episode in range(1, episodes+1):\n",
    "    state = env.reset()\n",
    "    done = False\n",
    "    score = 0 \n",
    "    \n",
    "    while not done:\n",
    "        #env.render()\n",
    "        action = env.action_space.sample()\n",
    "        n_state, reward, done, info = env.step(action)\n",
    "        score+=reward\n",
    "    print('Episode:{} Score:{}'.format(episode, score))"
   ]
  },
  {
   "cell_type": "code",
   "execution_count": null,
   "metadata": {},
   "outputs": [],
   "source": []
  },
  {
   "cell_type": "code",
   "execution_count": null,
   "metadata": {},
   "outputs": [],
   "source": []
  }
 ],
 "metadata": {
  "kernelspec": {
   "display_name": "Python 3",
   "language": "python",
   "name": "python3"
  },
  "language_info": {
   "codemirror_mode": {
    "name": "ipython",
    "version": 3
   },
   "file_extension": ".py",
   "mimetype": "text/x-python",
   "name": "python",
   "nbconvert_exporter": "python",
   "pygments_lexer": "ipython3",
   "version": "3.8.5"
  }
 },
 "nbformat": 4,
 "nbformat_minor": 2
}
