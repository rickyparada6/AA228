{
 "cells": [
  {
   "cell_type": "markdown",
   "metadata": {},
   "source": [
    "# Satellite Environment with OpenAI Gym"
   ]
  },
  {
   "cell_type": "code",
   "execution_count": 4,
   "metadata": {},
   "outputs": [],
   "source": [
    "from gym import Env\n",
    "from gym.spaces import *\n",
    "import numpy as np\n",
    "import random"
   ]
  },
  {
   "cell_type": "code",
   "execution_count": 28,
   "metadata": {},
   "outputs": [],
   "source": [
    "\"\"\"\n",
    "State of satellite\n",
    "P: power of satellite\n",
    "S1: memory in sensor 1\n",
    "S2: memory in sensor 2\n",
    "S3: memory in sensor 3\n",
    "E: electronics of satellite\n",
    "O: orbital motion of satellite\n",
    "T: time of the day-> ionosphere behavior\n",
    "\n",
    "State Space:\n",
    "S = (P, S1, S2, S3, E, O, T)\n",
    "P = {100, 99, 98, …, 3, 2, 1, 0}\n",
    "S1 = {100, 99, 98, …, 3, 2, 1, 0}\n",
    "S2 = {100, 99, 98, …, 3, 2, 1, 0}\n",
    "S3 = {100, 99, 98, …, 3, 2, 1, 0}\n",
    "E = {0, 1} not working / working\n",
    "O = {0, 1} not in range / in range\n",
    "T = {0, 1, 2, 3, 4} night, dawn, morning, afternoon, dusk\n",
    "\n",
    "Action Space:\n",
    "A = {transmit, not transmit} = {1, 0}\n",
    "\n",
    "Step Function:\n",
    "*If a1= transmit = 1, then:\n",
    "    P(state=s) transitions to a lower value P(state=s’) ---> power discharges\n",
    "    Ex: P=100 -> a1 (transmit) -> P=95\n",
    "    S1(state=s) transitions to a lower value S1(state=s’) ---> free memory in sensor 1 decreases (data transferred)\n",
    "    Ex: S1=100 -> a1 (transmit) -> S1=96.5\n",
    "\n",
    "*If a1= not transmit = 0, then:\n",
    "    P(state=s) transitions to a higher value P(state=s’) ---> power charges\n",
    "    Ex: P=70 -> a1 (not transmit) -> P=73\n",
    "    S1(state=s) remains the same S1(state=s’) ---> free memory in sensor 1 constant (no data transferred)\n",
    "    Ex: S1=70 -> a1 (not transmit) -> S1=70\n",
    "\n",
    "Reward:\n",
    "*If a1=1 (transmit), then:    ---> For each transmission we get reward\n",
    "    reward +=5 \n",
    "*If P(state=s’)>=30, then:    ---> Rewards for maintaining power more than 30%\n",
    "    reward +=2 \n",
    "*If we transmit all the data within the time satellite is within range then:\n",
    "    reward += 5*(remaining time for satellite in range)  --->More rewards for quicker transmission\n",
    "\n",
    "Termination:\n",
    "An action can occur every minute for an hour (when the satellite is within range) or until the sensor memory is full i.e. terminate if:\n",
    "*S1(state=s) = 0 --->Transmission complete\n",
    "*O(state=s) = 0  --->Satellite out of range\n",
    "\n",
    "\"\"\"\n",
    "\n",
    "class SatelliteEnv(Env):\n",
    "    def __init__(self):\n",
    "        # A = {transmit, not transmit} = {1, 0}\n",
    "        self.action_space = Discrete(2)\n",
    "        # S = (P, S1, S2, S3, E, O, T)\n",
    "        #Note currently only using P,S1,O\n",
    "        self.observation_space = Tuple((Box(0, 100, shape=(4,)),MultiDiscrete([ 2, 2, 5 ])))\n",
    "        # Set start states\n",
    "        self.state = np.zeros(7)\n",
    "        for i in range(7): \n",
    "            if i<4:\n",
    "                self.state[i] = 100\n",
    "            elif i<6:\n",
    "                self.state[i] = 1\n",
    "            else:\n",
    "                self.state[i] = 2\n",
    "        \n",
    "        #Transmission Time 60 mins\n",
    "        self.transmission_time = 60\n",
    "        \n",
    "    def step(self, action):\n",
    "        #A = {transmit, not transmit} = {1, 0}\n",
    "        #Update States\n",
    "\n",
    "        if self.state[0]>=5: #no action 1 if P < 5 \n",
    "            if action==1:\n",
    "                self.state[0] += -5   #discharging\n",
    "                self.state[1] += -3 #update free memory\n",
    "        if action==0:\n",
    "            self.state[0] += +3 #charging\n",
    "            \n",
    "        #Check States within bounds\n",
    "        for i in range(2):\n",
    "            if self.state[i]>100:\n",
    "                self.state[i] = 100  \n",
    "            elif self.state[i]< 0:\n",
    "                self.state[i] = 0\n",
    "             \n",
    "        # Reduce transmission time by 1 minute\n",
    "        self.transmission_time -= 1\n",
    "        \n",
    "        # Calculate reward\n",
    "        reward = 0\n",
    "        if self.state[0]>=30:\n",
    "            reward += 2\n",
    "        else: \n",
    "            reward += 0\n",
    "        if action==1:\n",
    "            reward += 5\n",
    "        if self.state[1]==0:\n",
    "            reward += (60 - self.transmission_time)*5\n",
    "        \n",
    "        # Check if transmission time is done\n",
    "        if self.transmission_time <= 0:\n",
    "            self.state[5] = 0\n",
    "    \n",
    "        if 0 in self.state[[1,5]]:\n",
    "            done = True\n",
    "        else:\n",
    "            done = False\n",
    "        \n",
    "        # Set placeholder for info\n",
    "        info = {}\n",
    "        \n",
    "        # Return step information\n",
    "        return self.state, reward, done, info\n",
    "\n",
    "    def render(self):\n",
    "        # Implement viz\n",
    "        pass\n",
    "    \n",
    "    def reset(self):\n",
    "        # Reset states\n",
    "        self.state = np.zeros(7)\n",
    "        for i in range(7): \n",
    "            if i<4:\n",
    "                self.state[i] = 100 #random.randint(90,100)\n",
    "            elif i<6:\n",
    "                self.state[i] = 1\n",
    "            else:\n",
    "                self.state[i] = 2\n",
    "        # Reset time\n",
    "        self.transmission_time = 60 \n",
    "        return self.state\n",
    "    "
   ]
  },
  {
   "cell_type": "code",
   "execution_count": 29,
   "metadata": {},
   "outputs": [],
   "source": [
    "env = SatelliteEnv()"
   ]
  },
  {
   "cell_type": "code",
   "execution_count": 30,
   "metadata": {},
   "outputs": [
    {
     "data": {
      "text/plain": [
       "(array([ 1.0568702, 25.376303 , 92.45675  , 21.888433 ], dtype=float32),\n",
       " array([0, 0, 2]))"
      ]
     },
     "execution_count": 30,
     "metadata": {},
     "output_type": "execute_result"
    }
   ],
   "source": [
    "env.observation_space.sample()"
   ]
  },
  {
   "cell_type": "code",
   "execution_count": 31,
   "metadata": {},
   "outputs": [
    {
     "name": "stdout",
     "output_type": "stream",
     "text": [
      "Episode:  1   Score:250.0   Transmissions:  34   Total Time:  60   Final States(P,S,O):   0.0,   1.0,   0.0\n",
      "Episode:  2   Score:270.0   Transmissions:  30   Total Time:  60   Final States(P,S,O):  39.0,  10.0,   0.0\n",
      "Episode:  3   Score:265.0   Transmissions:  29   Total Time:  60   Final States(P,S,O):  47.0,  13.0,   0.0\n",
      "Episode:  4   Score:273.0   Transmissions:  31   Total Time:  60   Final States(P,S,O):  29.0,   7.0,   0.0\n",
      "Episode:  5   Score:255.0   Transmissions:  27   Total Time:  60   Final States(P,S,O):  53.0,  19.0,   0.0\n",
      "Episode:  6   Score:270.0   Transmissions:  30   Total Time:  60   Final States(P,S,O):  33.0,  10.0,   0.0\n",
      "Episode:  7   Score:268.0   Transmissions:  32   Total Time:  60   Final States(P,S,O):  21.0,   4.0,   0.0\n",
      "Episode:  8   Score:259.0   Transmissions:  37   Total Time:  60   Final States(P,S,O):   4.0,   1.0,   0.0\n",
      "Episode:  9   Score:265.0   Transmissions:  29   Total Time:  60   Final States(P,S,O):  47.0,  13.0,   0.0\n",
      "Episode: 10   Score:250.0   Transmissions:  26   Total Time:  60   Final States(P,S,O):  38.0,  22.0,   0.0\n"
     ]
    }
   ],
   "source": [
    "episodes = 10\n",
    "for episode in range(1, episodes+1):\n",
    "    state = env.reset()\n",
    "    done = False\n",
    "    score = 0 \n",
    "    a=[]\n",
    "    \n",
    "    while not done:\n",
    "        #env.render()\n",
    "        action = env.action_space.sample()\n",
    "        n_state, reward, done, info = env.step(action)\n",
    "        a.append(action)\n",
    "        score+=reward\n",
    "    out_states = ','.join(map('{:6}'.format, n_state[[0,1,5]]))\n",
    "    print('Episode:{0:3}   Score:{1:5,.1f}   Transmissions:{2:4}   Total Time:{3:4}   Final States(P,S,O):{4:5}'.format(episode,score,a.count(1),np.size(a),out_states))"
   ]
  },
  {
   "cell_type": "code",
   "execution_count": 113,
   "metadata": {},
   "outputs": [
    {
     "name": "stdout",
     "output_type": "stream",
     "text": [
      "22\n",
      "(2, 2)\n"
     ]
    }
   ],
   "source": [
    "# converts s=[P, S1] -> index \n",
    "print(np.ravel_multi_index([2,2],(10,10)))  # P=2, S1=20 maps to index 120\n",
    "print(np.unravel_index(22,(10,10)))"
   ]
  },
  {
   "cell_type": "code",
   "execution_count": 134,
   "metadata": {},
   "outputs": [],
   "source": [
    "S = np.arange(0, 100)\n",
    "A = [0, 1]\n",
    "Q = np.zeros([10000, 2])\n",
    "T = np.zeros([10000, 2, 10000])  # s, a, s'\n",
    "R = np.zeros([10000, 2])\n",
    "U = np.arange(0, 10000)\n",
    "gamma = 0.95\n",
    "\n",
    "# TO DO: # Populate matrices "
   ]
  },
  {
   "cell_type": "code",
   "execution_count": 136,
   "metadata": {},
   "outputs": [
    {
     "name": "stdout",
     "output_type": "stream",
     "text": [
      "[0 0 0 ... 0 0 0]\n"
     ]
    }
   ],
   "source": [
    "# Implementing value iteration\n",
    "for i in range(10):  # when ready, change to while loop until convergence\n",
    "    for s in range(len(S)):\n",
    "        for a in range(len(A)):\n",
    "            Q[s, a] = R[s,a] + (gamma * sum([T[s, a, sp] * U[sp] for sp in S]))\n",
    "        U = np.max(Q, axis=1)\n",
    "Policy = np.argmax(Q, axis=1)\n",
    "print(Policy)\n",
    "        "
   ]
  },
  {
   "cell_type": "code",
   "execution_count": null,
   "metadata": {},
   "outputs": [],
   "source": []
  },
  {
   "cell_type": "code",
   "execution_count": null,
   "metadata": {},
   "outputs": [],
   "source": []
  },
  {
   "cell_type": "code",
   "execution_count": null,
   "metadata": {},
   "outputs": [],
   "source": []
  },
  {
   "cell_type": "code",
   "execution_count": null,
   "metadata": {},
   "outputs": [],
   "source": []
  }
 ],
 "metadata": {
  "interpreter": {
   "hash": "0adcc2737ebf6a4a119f135174df96668767fca1ef1112612db5ecadf2b6d608"
  },
  "kernelspec": {
   "display_name": "Python 3.8.1 64-bit",
   "name": "python3"
  },
  "language_info": {
   "codemirror_mode": {
    "name": "ipython",
    "version": 3
   },
   "file_extension": ".py",
   "mimetype": "text/x-python",
   "name": "python",
   "nbconvert_exporter": "python",
   "pygments_lexer": "ipython3",
   "version": "3.8.1"
  }
 },
 "nbformat": 4,
 "nbformat_minor": 2
}
